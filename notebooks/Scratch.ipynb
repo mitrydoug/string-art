{
 "cells": [
  {
   "cell_type": "code",
   "execution_count": 13,
   "id": "1c4434d5-4b91-4f5a-848a-c9ddbecf731f",
   "metadata": {},
   "outputs": [],
   "source": [
    "import json\n",
    "\n",
    "import numpy as np\n",
    "import pandas as pd"
   ]
  },
  {
   "cell_type": "code",
   "execution_count": 15,
   "id": "fdcb3b3c-aff2-4eed-84e8-9d812eb1e428",
   "metadata": {},
   "outputs": [],
   "source": [
    "with open(\"../src/seq_20.json\") as f:\n",
    "    seq = json.load(f)"
   ]
  },
  {
   "cell_type": "code",
   "execution_count": 16,
   "id": "cedfd67f-5254-406c-ad33-6fb182a4717a",
   "metadata": {},
   "outputs": [],
   "source": [
    "arr = np.array(seq[1:]).reshape((280, 10))"
   ]
  },
  {
   "cell_type": "code",
   "execution_count": 17,
   "id": "bdefc454-a403-4a89-9cd1-745e15b72f44",
   "metadata": {},
   "outputs": [
    {
     "data": {
      "text/plain": [
       "array([[100, 198,  96, ..., 192,  75, 148],\n",
       "       [ 44, 150,  50, ..., 153,  53, 156],\n",
       "       [ 51, 151,  48, ..., 151,  46, 147],\n",
       "       ...,\n",
       "       [135,  28,  38, ..., 199,  31, 196],\n",
       "       [ 24,  32,  63, ...,  94,  64,  77],\n",
       "       [ 34,  19,  30, ...,  28, 125,   0]])"
      ]
     },
     "execution_count": 17,
     "metadata": {},
     "output_type": "execute_result"
    }
   ],
   "source": [
    "arr"
   ]
  },
  {
   "cell_type": "code",
   "execution_count": 18,
   "id": "074f25af-a11e-479e-b763-ec28f8cc2503",
   "metadata": {},
   "outputs": [],
   "source": [
    "pd.DataFrame(arr).to_csv(\"sexy.csv\")"
   ]
  },
  {
   "cell_type": "code",
   "execution_count": null,
   "id": "f69fa1f8-062a-4704-8f06-ea93c8ff014b",
   "metadata": {},
   "outputs": [],
   "source": []
  }
 ],
 "metadata": {
  "kernelspec": {
   "display_name": "Python 3 (ipykernel)",
   "language": "python",
   "name": "python3"
  },
  "language_info": {
   "codemirror_mode": {
    "name": "ipython",
    "version": 3
   },
   "file_extension": ".py",
   "mimetype": "text/x-python",
   "name": "python",
   "nbconvert_exporter": "python",
   "pygments_lexer": "ipython3",
   "version": "3.12.2"
  }
 },
 "nbformat": 4,
 "nbformat_minor": 5
}
