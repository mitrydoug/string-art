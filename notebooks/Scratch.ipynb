{
 "cells": [
  {
   "cell_type": "code",
   "execution_count": 1,
   "id": "1c4434d5-4b91-4f5a-848a-c9ddbecf731f",
   "metadata": {},
   "outputs": [],
   "source": [
    "import json"
   ]
  },
  {
   "cell_type": "code",
   "execution_count": 3,
   "id": "fdcb3b3c-aff2-4eed-84e8-9d812eb1e428",
   "metadata": {},
   "outputs": [],
   "source": [
    "with open(\"../src/seq.json\") as f:\n",
    "    seq = json.load(f)"
   ]
  },
  {
   "cell_type": "code",
   "execution_count": 4,
   "id": "09fb936e-464e-46b0-9c0e-5db102368752",
   "metadata": {},
   "outputs": [
    {
     "data": {
      "text/plain": [
       "2801"
      ]
     },
     "execution_count": 4,
     "metadata": {},
     "output_type": "execute_result"
    }
   ],
   "source": [
    "len(seq)"
   ]
  },
  {
   "cell_type": "code",
   "execution_count": 5,
   "id": "5b2f3253-a361-4ed1-868f-b81ba8d45eaf",
   "metadata": {},
   "outputs": [],
   "source": [
    "pairs = [(seq[i], seq[i+1]) for i in range(len(seq)-1)]"
   ]
  },
  {
   "cell_type": "code",
   "execution_count": 6,
   "id": "fc3e536d-300c-40dd-857b-a688f6c4fb19",
   "metadata": {},
   "outputs": [
    {
     "data": {
      "text/plain": [
       "2800"
      ]
     },
     "execution_count": 6,
     "metadata": {},
     "output_type": "execute_result"
    }
   ],
   "source": [
    "len(pairs)"
   ]
  },
  {
   "cell_type": "code",
   "execution_count": null,
   "id": "c275c021-dffa-4e24-bcbf-c6f12650a2c7",
   "metadata": {},
   "outputs": [],
   "source": []
  }
 ],
 "metadata": {
  "kernelspec": {
   "display_name": "Python 3 (ipykernel)",
   "language": "python",
   "name": "python3"
  },
  "language_info": {
   "codemirror_mode": {
    "name": "ipython",
    "version": 3
   },
   "file_extension": ".py",
   "mimetype": "text/x-python",
   "name": "python",
   "nbconvert_exporter": "python",
   "pygments_lexer": "ipython3",
   "version": "3.12.2"
  }
 },
 "nbformat": 4,
 "nbformat_minor": 5
}
