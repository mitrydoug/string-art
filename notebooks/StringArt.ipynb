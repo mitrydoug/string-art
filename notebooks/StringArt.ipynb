{
 "cells": [
  {
   "cell_type": "code",
   "execution_count": 3,
   "id": "9e8249ab-e36f-488c-8ff0-e9cbdc113a5c",
   "metadata": {},
   "outputs": [],
   "source": [
    "import json\n",
    "import sys\n",
    "sys.path.append(\"../src\")\n",
    "\n",
    "import ipywidgets as widgets\n",
    "import numpy as np\n",
    "from ipycanvas import Canvas\n",
    "from ipywidgets import Image\n",
    "\n",
    "from stringart.utils import string_chord, nail_point"
   ]
  },
  {
   "cell_type": "code",
   "execution_count": 31,
   "id": "1256ed6c-0de2-46ba-85a5-4d5dd47e695b",
   "metadata": {},
   "outputs": [
    {
     "data": {
      "application/vnd.jupyter.widget-view+json": {
       "model_id": "bae28138ab3d44fc81a19547269cbe86",
       "version_major": 2,
       "version_minor": 0
      },
      "text/plain": [
       "ToggleButtons(options=('Strings', 'Strings & Image', 'Image'), value='Strings')"
      ]
     },
     "metadata": {},
     "output_type": "display_data"
    },
    {
     "data": {
      "application/vnd.jupyter.widget-view+json": {
       "model_id": "7fe0a6cecd364af9a296d16a89c593dd",
       "version_major": 2,
       "version_minor": 0
      },
      "text/plain": [
       "IntSlider(value=10, max=2800, min=10, step=10)"
      ]
     },
     "metadata": {},
     "output_type": "display_data"
    },
    {
     "data": {
      "application/vnd.jupyter.widget-view+json": {
       "model_id": "dfe3c7cbb45c4c059b56e9eec1488f5e",
       "version_major": 2,
       "version_minor": 0
      },
      "text/plain": [
       "Canvas(height=800, width=800)"
      ]
     },
     "metadata": {},
     "output_type": "display_data"
    }
   ],
   "source": [
    "# number of nails\n",
    "NUM_NAILS=200\n",
    "# fraction of arc between adjacent nails occupied by one nail\n",
    "NAIL_FRAC=0.2\n",
    "# compute radius (alt, specify directly)\n",
    "NAIL_RADIUS= np.pi / NUM_NAILS * NAIL_FRAC\n",
    "\n",
    "# canvas height/width\n",
    "PIXELS = 800\n",
    "# alpha color channel for each string\n",
    "STRING_ALPHA=0.2\n",
    "LINE_WIDTH=0.5\n",
    "\n",
    "def pixel(x):\n",
    "    \"\"\"Convert (0, 1) to (0, PIXELS) range\"\"\"\n",
    "    return x * PIXELS\n",
    "\n",
    "canvas = Canvas(width=PIXELS, height=PIXELS)\n",
    "canvas.line_width = LINE_WIDTH\n",
    "\n",
    "with open(\"../src/cycle_final.json\") as f:\n",
    "    cycle = json.load(f)\n",
    "\n",
    "def draw_strings(seq_idx):\n",
    "\n",
    "    idxs = []\n",
    "\n",
    "    canvas.stroke_circles(\n",
    "        [PIXELS*nail_point(i, NUM_NAILS)[0] for i in range(NUM_NAILS)],\n",
    "        [PIXELS*nail_point(i, NUM_NAILS)[1] for i in range(NUM_NAILS)],\n",
    "        PIXELS*NAIL_RADIUS,\n",
    "    )\n",
    "    \n",
    "    points = []\n",
    "    alphas = []\n",
    "\n",
    "    for i in range(seq_idx):\n",
    "        m = cycle[i]\n",
    "        n = cycle[i+1]\n",
    "        mv, nv = string_chord(m, n, NUM_NAILS, NAIL_RADIUS)\n",
    "        mx, my = mv\n",
    "        nx, ny = nv\n",
    "        points.append([[pixel(mx), PIXELS-pixel(my)], [pixel(nx), PIXELS-pixel(ny)]])\n",
    "        alphas.append(STRING_ALPHA)\n",
    "\n",
    "    canvas.stroke_styled_line_segments(\n",
    "        np.array(points, dtype=int),\n",
    "        np.array([[0, 0, 1]], dtype=int),\n",
    "        np.array(alphas),\n",
    "    )\n",
    "    \n",
    "    display(canvas)\n",
    "\n",
    "image = Image.from_file(\"../src/grayscale.png\")\n",
    "\n",
    "image_toggle = widgets.ToggleButtons(\n",
    "    options=['Strings', 'Strings & Image', 'Image'],\n",
    "    disabled=False,\n",
    "    button_style='', # 'success', 'info', 'warning', 'danger' or ''\n",
    ")\n",
    "\n",
    "seq_range = widgets.IntSlider(value=10, min=10, max=len(cycle)-1, step=10, continuous_update=True)\n",
    "\n",
    "def draw_canvas():\n",
    "    \n",
    "    canvas.clear()\n",
    "    canvas.stroke_circle(pixel(0.5), pixel(0.5), PIXELS/2)\n",
    "    if 'Image' in image_toggle.value:\n",
    "        canvas.draw_image(image, 0, 0, PIXELS, PIXELS)\n",
    "    if 'Strings' in image_toggle.value:\n",
    "        draw_strings(seq_range.value)\n",
    "        \n",
    "\n",
    "display(image_toggle, seq_range)\n",
    "draw_canvas()\n",
    "\n",
    "def on_seq_value_change(change):\n",
    "    draw_canvas()\n",
    "\n",
    "def on_toggle_value_change(change):\n",
    "    draw_canvas()\n",
    "    \n",
    "\n",
    "seq_range.observe(on_seq_value_change, names='value')\n",
    "image_toggle.observe(on_toggle_value_change, names='value')"
   ]
  },
  {
   "cell_type": "code",
   "execution_count": null,
   "id": "ee5cb919-0161-42ef-a005-e38c2808a3f9",
   "metadata": {},
   "outputs": [],
   "source": []
  }
 ],
 "metadata": {
  "kernelspec": {
   "display_name": "Python 3 (ipykernel)",
   "language": "python",
   "name": "python3"
  },
  "language_info": {
   "codemirror_mode": {
    "name": "ipython",
    "version": 3
   },
   "file_extension": ".py",
   "mimetype": "text/x-python",
   "name": "python",
   "nbconvert_exporter": "python",
   "pygments_lexer": "ipython3",
   "version": "3.12.2"
  }
 },
 "nbformat": 4,
 "nbformat_minor": 5
}
