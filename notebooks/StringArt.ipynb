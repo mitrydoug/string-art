{
 "cells": [
  {
   "cell_type": "code",
   "execution_count": 15,
   "id": "9e8249ab-e36f-488c-8ff0-e9cbdc113a5c",
   "metadata": {},
   "outputs": [],
   "source": [
    "import ipywidgets as widgets\n",
    "from matplotlib import pyplot as plt\n",
    "from ipywidgets import Image\n",
    "\n",
    "import numpy as np\n",
    "import torch"
   ]
  },
  {
   "cell_type": "code",
   "execution_count": 16,
   "id": "c462e2ab-d95e-4d9d-b4ef-908b4e765861",
   "metadata": {},
   "outputs": [
    {
     "data": {
      "application/vnd.jupyter.widget-view+json": {
       "model_id": "3f82e9e97ec141ac81f15aef343c83f5",
       "version_major": 2,
       "version_minor": 0
      },
      "text/plain": [
       "Canvas(height=200, width=200)"
      ]
     },
     "execution_count": 16,
     "metadata": {},
     "output_type": "execute_result"
    }
   ],
   "source": [
    "from ipycanvas import Canvas\n",
    "\n",
    "canvas = Canvas(width=200, height=200)\n",
    "\n",
    "canvas.fill_rect(25, 25, 100, 100)\n",
    "canvas.clear_rect(45, 45, 60, 60)\n",
    "canvas.stroke_rect(50, 50, 50, 50)\n",
    "\n",
    "canvas"
   ]
  },
  {
   "cell_type": "code",
   "execution_count": 17,
   "id": "6f633f3b-cd86-40f5-bbc1-9276f294c5e6",
   "metadata": {},
   "outputs": [
    {
     "data": {
      "application/vnd.jupyter.widget-view+json": {
       "model_id": "59d76313e1f340eb81c867a8a37cab2b",
       "version_major": 2,
       "version_minor": 0
      },
      "text/plain": [
       "FloatSlider(value=0.5, max=1.0, step=0.01)"
      ]
     },
     "execution_count": 17,
     "metadata": {},
     "output_type": "execute_result"
    }
   ],
   "source": [
    "widgets.FloatSlider(value=0.5, min=0, max=1, step=0.01)"
   ]
  },
  {
   "cell_type": "code",
   "execution_count": 18,
   "id": "dfbd0ebd-ea0b-457f-af78-c275b8d78b42",
   "metadata": {},
   "outputs": [
    {
     "data": {
      "application/vnd.jupyter.widget-view+json": {
       "model_id": "8c553abe039e4b0eaa382bc685d3825f",
       "version_major": 2,
       "version_minor": 0
      },
      "text/plain": [
       "IntSlider(value=0)"
      ]
     },
     "metadata": {},
     "output_type": "display_data"
    },
    {
     "data": {
      "application/vnd.jupyter.widget-view+json": {
       "model_id": "fb7bf37e14624588b911d22460997244",
       "version_major": 2,
       "version_minor": 0
      },
      "text/plain": [
       "Output()"
      ]
     },
     "metadata": {},
     "output_type": "display_data"
    }
   ],
   "source": [
    "int_range = widgets.IntSlider()\n",
    "output2 = widgets.Output()\n",
    "\n",
    "display(int_range, output2)\n",
    "\n",
    "def on_value_change(change):\n",
    "    with output2:\n",
    "        print(change['new'])\n",
    "\n",
    "int_range.observe(on_value_change, names='value')"
   ]
  },
  {
   "cell_type": "code",
   "execution_count": 19,
   "id": "77c78293-af17-4a1a-9456-63fe540bbd48",
   "metadata": {},
   "outputs": [],
   "source": [
    "import numpy as np"
   ]
  },
  {
   "cell_type": "code",
   "execution_count": 20,
   "id": "77f21498-8ece-4714-a7d8-0c1e251ba37b",
   "metadata": {},
   "outputs": [],
   "source": [
    "with open(\"../src/output.dat\", \"rb\") as f:\n",
    "    weights = np.load(f)"
   ]
  },
  {
   "cell_type": "code",
   "execution_count": 21,
   "id": "e363e710-71c6-4e3a-a6f9-c944977ba3e1",
   "metadata": {},
   "outputs": [
    {
     "data": {
      "text/plain": [
       "array([-0.19275653, -0.19054382, -0.18836555, ..., -0.195931  ,\n",
       "       -0.19871101, -0.19738853], dtype=float32)"
      ]
     },
     "execution_count": 21,
     "metadata": {},
     "output_type": "execute_result"
    }
   ],
   "source": [
    "weights"
   ]
  },
  {
   "cell_type": "code",
   "execution_count": 22,
   "id": "50a680ed-791d-40cf-8f78-edcd718e66f0",
   "metadata": {},
   "outputs": [
    {
     "data": {
      "text/plain": [
       "0.015032136"
      ]
     },
     "execution_count": 22,
     "metadata": {},
     "output_type": "execute_result"
    }
   ],
   "source": [
    "np.max(weights)"
   ]
  },
  {
   "cell_type": "code",
   "execution_count": 23,
   "id": "3888761c-c81d-4c48-b0fd-ebe2ffa7d9d0",
   "metadata": {},
   "outputs": [],
   "source": [
    "import math"
   ]
  },
  {
   "cell_type": "code",
   "execution_count": 24,
   "id": "3e4b5375-5778-42fc-b21f-363be3863d04",
   "metadata": {},
   "outputs": [],
   "source": [
    "def connection_idx(m, n):\n",
    "        # (t-1) + (t-2) + ... + (t-m) + n\n",
    "        # t * m - m * (m-1) / 2\n",
    "        # print(f\"connection_idx({m}, {n})\")\n",
    "        return num_nails * m - (m + 1) * m // 2 + n - m - 1"
   ]
  },
  {
   "cell_type": "code",
   "execution_count": 25,
   "id": "1256ed6c-0de2-46ba-85a5-4d5dd47e695b",
   "metadata": {},
   "outputs": [
    {
     "name": "stdout",
     "output_type": "stream",
     "text": [
      "0.042736225\n",
      "3.4340228e-09\n",
      "(32640,)\n",
      "256\n",
      "here\n"
     ]
    },
    {
     "data": {
      "application/vnd.jupyter.widget-view+json": {
       "model_id": "3b2a1cc3aadc43d1a08a0b5155fa79ae",
       "version_major": 2,
       "version_minor": 0
      },
      "text/plain": [
       "ToggleButtons(options=('Strings', 'Strings & Image', 'Image'), value='Strings')"
      ]
     },
     "metadata": {},
     "output_type": "display_data"
    },
    {
     "data": {
      "application/vnd.jupyter.widget-view+json": {
       "model_id": "6e87fa3e4c76439cbcb40363ab4177d4",
       "version_major": 2,
       "version_minor": 0
      },
      "text/plain": [
       "FloatSlider(value=0.5, continuous_update=False, max=1.0, step=0.01)"
      ]
     },
     "metadata": {},
     "output_type": "display_data"
    },
    {
     "name": "stdout",
     "output_type": "stream",
     "text": [
      "here here\n"
     ]
    },
    {
     "data": {
      "application/vnd.jupyter.widget-view+json": {
       "model_id": "c08217852d65439aa5016e2e6e385ec8",
       "version_major": 2,
       "version_minor": 0
      },
      "text/plain": [
       "Canvas(height=400, width=400)"
      ]
     },
     "metadata": {},
     "output_type": "display_data"
    }
   ],
   "source": [
    "with open(\"../src/output.dat\", \"rb\") as f:\n",
    "    weights = np.load(f)\n",
    "\n",
    "weights = torch.nn.functional.softplus(torch.from_numpy(weights), beta=20).numpy()\n",
    "print(weights.max())\n",
    "print(weights.min())\n",
    "print(weights.shape)\n",
    "\n",
    "num_connections = weights.shape[0]\n",
    "# quadratic formula, bitches!\n",
    "num_nails = int(1/2 + np.sqrt(1/4 + 2 * num_connections))\n",
    "print(num_nails)\n",
    "\n",
    "# with open(\"../src/masks/mask_h=100_w=100_numnails=100_maxdist=0.1.npy\", \"rb\") as f:\n",
    "#     mask = np.load(f)\n",
    "\n",
    "PIXELS=400\n",
    "\n",
    "def pixel(x):\n",
    "    return x * PIXELS\n",
    "\n",
    "canvas = Canvas(width=PIXELS, height=PIXELS)\n",
    "\n",
    "image = Image.from_file(\"../src/grayscale.png\")\n",
    "print('here')\n",
    "\n",
    "\n",
    "# canvas.fill_circle(200, 200, 20)\n",
    "    \n",
    "\n",
    "canvas.stroke_style = \"blue\"\n",
    "canvas.line_width = 0.5\n",
    "\n",
    "\n",
    "min = np.min(weights)\n",
    "max = np.max(weights)\n",
    "\n",
    "def draw_strings(thresh):\n",
    "\n",
    "    # weights = np.array([mask[y_range.value *100 + x_range.value]])\n",
    "    \n",
    "    for m in range(num_nails):\n",
    "        for n in range(m+1, num_nails):\n",
    "            conn_idx = connection_idx(m, n)\n",
    "            # norm_weight = weights[0][conn_idx]\n",
    "            norm_weight = (weights[conn_idx] - min)/(max-min)\n",
    "            if norm_weight > thresh:\n",
    "                mx = (np.cos(m / num_nails * 2 * math.pi) + 1) / 2\n",
    "                my = (np.sin(m / num_nails * 2 * math.pi) + 1) / 2\n",
    "                nx = (np.cos(n / num_nails * 2 * math.pi) + 1) / 2\n",
    "                ny = (np.sin(n / num_nails * 2 * math.pi) + 1) / 2\n",
    "                canvas.stroke_styled_line_segments(\n",
    "                    np.array([[[pixel(mx), PIXELS-pixel(my)], [pixel(nx), PIXELS-pixel(ny)]]], dtype=int),\n",
    "                    np.array([[0, 0, 1]], dtype=int),\n",
    "                    1.0 * float(norm_weight),\n",
    "                )\n",
    "    \n",
    "    display(canvas)\n",
    "\n",
    "float_range = widgets.FloatSlider(value=0.5, min=0, max=1, step=0.01, continuous_update=False)\n",
    "image_toggle = widgets.ToggleButtons(\n",
    "    options=['Strings', 'Strings & Image', 'Image'],\n",
    "    disabled=False,\n",
    "    button_style='', # 'success', 'info', 'warning', 'danger' or ''\n",
    ")\n",
    "# x_range = widgets.IntSlider(value=50, min=0, max=100, step=1, continuous_update=False)\n",
    "# y_range = widgets.IntSlider(value=50, min=0, max=100, step=1, continuous_update=False)\n",
    "\n",
    "def draw_canvas():\n",
    "    \n",
    "    canvas.clear()\n",
    "    canvas.stroke_circle(pixel(0.5), pixel(0.5), 200)\n",
    "    if 'Image' in image_toggle.value:\n",
    "        canvas.draw_image(image, 0, 0, PIXELS, PIXELS)\n",
    "    if 'Strings' in image_toggle.value:\n",
    "        draw_strings(float_range.value)\n",
    "        \n",
    "\n",
    "display(image_toggle, float_range)\n",
    "print('here here')\n",
    "draw_canvas()\n",
    "\n",
    "def on_float_value_change(change):\n",
    "    draw_canvas()\n",
    "\n",
    "def on_toggle_value_change(change):\n",
    "    draw_canvas()\n",
    "    \n",
    "\n",
    "float_range.observe(on_float_value_change, names='value')\n",
    "image_toggle.observe(on_toggle_value_change, names='value')\n",
    "# x_range.observe(on_toggle_value_change, names='value')\n",
    "# y_range.observe(on_toggle_value_change, names='value')"
   ]
  },
  {
   "cell_type": "code",
   "execution_count": null,
   "id": "deb30499-e586-4d47-b177-cf8a9293a212",
   "metadata": {},
   "outputs": [],
   "source": []
  }
 ],
 "metadata": {
  "kernelspec": {
   "display_name": "Python 3 (ipykernel)",
   "language": "python",
   "name": "python3"
  },
  "language_info": {
   "codemirror_mode": {
    "name": "ipython",
    "version": 3
   },
   "file_extension": ".py",
   "mimetype": "text/x-python",
   "name": "python",
   "nbconvert_exporter": "python",
   "pygments_lexer": "ipython3",
   "version": "3.9.15"
  }
 },
 "nbformat": 4,
 "nbformat_minor": 5
}
