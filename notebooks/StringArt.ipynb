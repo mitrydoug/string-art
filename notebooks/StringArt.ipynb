{
 "cells": [
  {
   "cell_type": "code",
   "execution_count": 109,
   "id": "9e8249ab-e36f-488c-8ff0-e9cbdc113a5c",
   "metadata": {},
   "outputs": [],
   "source": [
    "import ipywidgets as widgets\n",
    "from matplotlib import pyplot as plt\n",
    "from ipywidgets import Image\n",
    "from PIL import Image as PIL_Image\n",
    "\n",
    "import bisect\n",
    "\n",
    "from ipycanvas import Canvas\n",
    "\n",
    "import numpy as np\n",
    "import pandas as pd\n",
    "import torch"
   ]
  },
  {
   "cell_type": "code",
   "execution_count": 110,
   "id": "61390fe1-ad4d-46d9-ab2a-8e31f8fedfd8",
   "metadata": {},
   "outputs": [
    {
     "data": {
      "text/plain": [
       "'3.9.15 (main, Oct 11 2022, 22:27:25) \\n[Clang 14.0.0 (clang-1400.0.29.102)]'"
      ]
     },
     "execution_count": 110,
     "metadata": {},
     "output_type": "execute_result"
    }
   ],
   "source": [
    "import sys\n",
    "sys.version"
   ]
  },
  {
   "cell_type": "code",
   "execution_count": 111,
   "id": "5d9a3a20-0a1a-44f7-b4ba-77fe7737fc5a",
   "metadata": {},
   "outputs": [],
   "source": [
    "img_h = 100\n",
    "img_w = 100"
   ]
  },
  {
   "cell_type": "code",
   "execution_count": 209,
   "id": "5cd275fc-8594-497e-91e8-16d345aaf410",
   "metadata": {},
   "outputs": [],
   "source": [
    "mask_fp = \"../src/masks/mask_h=100_w=100_numnails=200_maxdist=0.01.npy\"\n",
    "with open(mask_fp, \"rb\") as f:\n",
    "        mask = np.load(f)"
   ]
  },
  {
   "cell_type": "code",
   "execution_count": 128,
   "id": "fed41bbc-d07f-4265-bc2d-84a62f9c88d4",
   "metadata": {},
   "outputs": [
    {
     "data": {
      "text/plain": [
       "array([[<Axes: title={'center': '0'}>]], dtype=object)"
      ]
     },
     "execution_count": 128,
     "metadata": {},
     "output_type": "execute_result"
    },
    {
     "data": {
      "image/png": "[encoded data removed]",
      "text/plain": [
       "<Figure size 640x480 with 1 Axes>"
      ]
     },
     "metadata": {},
     "output_type": "display_data"
    }
   ],
   "source": [
    "mask.shape\n",
    "non_zero = np.count_nonzero(mask, axis=0)\n",
    "pd.DataFrame(non_zero).hist()"
   ]
  },
  {
   "cell_type": "code",
   "execution_count": 117,
   "id": "fa1348e3-7914-43ac-846b-9db5f1ea2924",
   "metadata": {},
   "outputs": [
    {
     "data": {
      "text/plain": [
       "array([144, 144, 146, ...,  92,  99,  93])"
      ]
     },
     "execution_count": 117,
     "metadata": {},
     "output_type": "execute_result"
    }
   ],
   "source": [
    "non_zero"
   ]
  },
  {
   "cell_type": "code",
   "execution_count": 184,
   "id": "77f21498-8ece-4714-a7d8-0c1e251ba37b",
   "metadata": {},
   "outputs": [],
   "source": [
    "with open(\"../src/output.dat\", \"rb\") as f:\n",
    "    weights = np.load(f)\n",
    "weights = torch.nn.functional.softplus(torch.from_numpy(weights), beta=20).numpy()\n",
    "# weights = non_zero.max() - non_zero"
   ]
  },
  {
   "cell_type": "code",
   "execution_count": 185,
   "id": "e363e710-71c6-4e3a-a6f9-c944977ba3e1",
   "metadata": {},
   "outputs": [
    {
     "data": {
      "text/plain": [
       "array([[<Axes: title={'center': '0'}>]], dtype=object)"
      ]
     },
     "execution_count": 185,
     "metadata": {},
     "output_type": "execute_result"
    },
    {
     "data": {
      "image/png": "[encoded data removed]",
      "text/plain": [
       "<Figure size 640x480 with 1 Axes>"
      ]
     },
     "metadata": {},
     "output_type": "display_data"
    }
   ],
   "source": [
    "norm_weights = (weights - weights.min()) / (weights.max() - weights.min())\n",
    "pd.DataFrame(norm_weights).hist(bins=100)"
   ]
  },
  {
   "cell_type": "code",
   "execution_count": 186,
   "id": "50a680ed-791d-40cf-8f78-edcd718e66f0",
   "metadata": {},
   "outputs": [
    {
     "data": {
      "text/plain": [
       "0.3182308"
      ]
     },
     "execution_count": 186,
     "metadata": {},
     "output_type": "execute_result"
    }
   ],
   "source": [
    "np.max(weights)"
   ]
  },
  {
   "cell_type": "code",
   "execution_count": 187,
   "id": "3888761c-c81d-4c48-b0fd-ebe2ffa7d9d0",
   "metadata": {},
   "outputs": [],
   "source": [
    "import math"
   ]
  },
  {
   "cell_type": "code",
   "execution_count": 188,
   "id": "3e4b5375-5778-42fc-b21f-363be3863d04",
   "metadata": {},
   "outputs": [],
   "source": [
    "def connection_idx(m, n):\n",
    "        # (t-1) + (t-2) + ... + (t-m) + n\n",
    "        # t * m - m * (m-1) / 2\n",
    "        # print(f\"connection_idx({m}, {n})\")\n",
    "        return num_nails * m - (m + 1) * m // 2 + n - m - 1\n",
    "\n",
    "def connection_coords(idx):\n",
    "    if not hasattr(connection_coords, 'coords'):\n",
    "        connection_coords.coords = [(m, n) for m in range(num_nails) for n in range(m+1, num_nails)]\n",
    "    return connection_coords.coords[idx]\n",
    "    "
   ]
  },
  {
   "cell_type": "code",
   "execution_count": 214,
   "id": "1256ed6c-0de2-46ba-85a5-4d5dd47e695b",
   "metadata": {},
   "outputs": [
    {
     "name": "stdout",
     "output_type": "stream",
     "text": [
      "0.8412653\n",
      "7.507608e-05\n",
      "(19900,)\n",
      "19900\n",
      "200\n",
      "here\n",
      "[0.19999999999999996, 0.3599999999999999, 0.4879999999999999, 0.5903999999999999, 0.6723199999999999, 0.7378559999999998, 0.7902847999999999, 0.8322278399999999, 0.8657822719999999]\n"
     ]
    },
    {
     "data": {
      "application/vnd.jupyter.widget-view+json": {
       "model_id": "14c073dee56e41d994cb8920eacb32a0",
       "version_major": 2,
       "version_minor": 0
      },
      "text/plain": [
       "ToggleButtons(options=('Strings', 'Strings & Image', 'Image'), value='Strings')"
      ]
     },
     "metadata": {},
     "output_type": "display_data"
    },
    {
     "data": {
      "application/vnd.jupyter.widget-view+json": {
       "model_id": "2e6c5ae0124e4d439d1a404a5152aa9a",
       "version_major": 2,
       "version_minor": 0
      },
      "text/plain": [
       "FloatSlider(value=0.99, max=1.0, step=0.01)"
      ]
     },
     "metadata": {},
     "output_type": "display_data"
    },
    {
     "name": "stdout",
     "output_type": "stream",
     "text": [
      "here here\n",
      "3813\n"
     ]
    },
    {
     "data": {
      "application/vnd.jupyter.widget-view+json": {
       "model_id": "80b7477d772342b897e8b812eb5fb10d",
       "version_major": 2,
       "version_minor": 0
      },
      "text/plain": [
       "Canvas(height=400, width=400)"
      ]
     },
     "metadata": {},
     "output_type": "display_data"
    }
   ],
   "source": [
    "with open(\"../src/output.dat\", \"rb\") as f:\n",
    "    weights = np.load(f)\n",
    "weights = torch.nn.functional.softplus(torch.from_numpy(weights), beta=20).numpy()\n",
    "\n",
    "print(weights.max())\n",
    "print(weights.min())\n",
    "print(weights.shape)\n",
    "\n",
    "num_connections = weights.shape[0]\n",
    "print(num_connections)\n",
    "# quadratic formula, bitches!\n",
    "num_nails = int(1/2 + np.sqrt(1/4 + 2 * num_connections))\n",
    "print(num_nails)\n",
    "\n",
    "# with open(\"../src/masks/mask_h=100_w=100_numnails=100_maxdist=0.1.npy\", \"rb\") as f:\n",
    "#     mask = np.load(f)\n",
    "\n",
    "PIXELS=400\n",
    "\n",
    "def pixel(x):\n",
    "    return x * PIXELS\n",
    "\n",
    "canvas = Canvas(width=PIXELS, height=PIXELS)\n",
    "\n",
    "image = Image.from_file(\"../src/grayscale.png\")\n",
    "print('here')\n",
    "\n",
    "\n",
    "# canvas.fill_circle(200, 200, 20)\n",
    "    \n",
    "\n",
    "canvas.stroke_style = \"blue\"\n",
    "canvas.line_width = 0.5\n",
    "\n",
    "string_alpha = 0.2\n",
    "max_strings = 10\n",
    "thresholds = [1 - (1 - string_alpha) ** i for i in range(1, max_strings)]\n",
    "print(thresholds)\n",
    "\n",
    "min = np.min(weights)\n",
    "max = np.max(weights)\n",
    "\n",
    "def draw_strings(thresh):\n",
    "\n",
    "    # weights = np.array([mask[y_range.value *100 + x_range.value]])\n",
    "\n",
    "    idxs = []\n",
    "\n",
    "    points = []\n",
    "    alphas = []\n",
    "    \n",
    "    for m in range(num_nails):\n",
    "        for n in range(m+1, num_nails):\n",
    "            conn_idx = connection_idx(m, n)\n",
    "            # norm_weight = weights[0][conn_idx]\n",
    "            # norm_weight = (weights[conn_idx] - min)/(max-min)\n",
    "            norm_weight = weights[conn_idx]/max\n",
    "            idx = bisect.bisect_right(thresholds, norm_weight)\n",
    "            # idxs.append(idx)\n",
    "            # continue\n",
    "            if idx > 0:\n",
    "            # if norm_weight > thresh:\n",
    "                alpha = thresholds[idx-1]\n",
    "                # alpha = norm_weight\n",
    "                mx = (np.cos(m / num_nails * 2 * math.pi) + 1) / 2\n",
    "                my = (np.sin(m / num_nails * 2 * math.pi) + 1) / 2\n",
    "                nx = (np.cos(n / num_nails * 2 * math.pi) + 1) / 2\n",
    "                ny = (np.sin(n / num_nails * 2 * math.pi) + 1) / 2\n",
    "                points.append([[pixel(mx), PIXELS-pixel(my)], [pixel(nx), PIXELS-pixel(ny)]])\n",
    "                alphas.append(alpha)\n",
    "\n",
    "    print(len(points))\n",
    "    canvas.stroke_styled_line_segments(\n",
    "        np.array(points, dtype=int),\n",
    "        np.array([[0, 0, 1]], dtype=int),\n",
    "        np.array(alphas),\n",
    "    )\n",
    "    \n",
    "    display(canvas)\n",
    "\n",
    "float_range = widgets.FloatSlider(value=0.99, min=0, max=1, step=0.01, continuous_update=True)\n",
    "image_toggle = widgets.ToggleButtons(\n",
    "    options=['Strings', 'Strings & Image', 'Image'],\n",
    "    disabled=False,\n",
    "    button_style='', # 'success', 'info', 'warning', 'danger' or ''\n",
    ")\n",
    "# x_range = widgets.IntSlider(value=50, min=0, max=100, step=1, continuous_update=False)\n",
    "# y_range = widgets.IntSlider(value=50, min=0, max=100, step=1, continuous_update=False)\n",
    "\n",
    "def draw_canvas():\n",
    "    \n",
    "    canvas.clear()\n",
    "    canvas.stroke_circle(pixel(0.5), pixel(0.5), PIXELS/2)\n",
    "    if 'Image' in image_toggle.value:\n",
    "        canvas.draw_image(image, 0, 0, PIXELS, PIXELS)\n",
    "    if 'Strings' in image_toggle.value:\n",
    "        draw_strings(float_range.value)\n",
    "        \n",
    "\n",
    "display(image_toggle, float_range)\n",
    "print('here here')\n",
    "draw_canvas()\n",
    "\n",
    "def on_float_value_change(change):\n",
    "    draw_canvas()\n",
    "\n",
    "def on_toggle_value_change(change):\n",
    "    draw_canvas()\n",
    "    \n",
    "\n",
    "float_range.observe(on_float_value_change, names='value')\n",
    "image_toggle.observe(on_toggle_value_change, names='value')\n",
    "# x_range.observe(on_toggle_value_change, names='value')\n",
    "# y_range.observe(on_toggle_value_change, names='value')"
   ]
  },
  {
   "cell_type": "code",
   "execution_count": 210,
   "id": "9392a3d3-f52e-40a2-a273-517cf82464b2",
   "metadata": {},
   "outputs": [
    {
     "data": {
      "application/vnd.jupyter.widget-view+json": {
       "model_id": "0df9b2c30064453ba498c593dc1b9543",
       "version_major": 2,
       "version_minor": 0
      },
      "text/plain": [
       "IntSlider(value=100, description='m', max=198)"
      ]
     },
     "metadata": {},
     "output_type": "display_data"
    },
    {
     "data": {
      "application/vnd.jupyter.widget-view+json": {
       "model_id": "81f344cc867e4eca8fd4087de389da23",
       "version_major": 2,
       "version_minor": 0
      },
      "text/plain": [
       "IntSlider(value=150, description='n', max=199, min=1)"
      ]
     },
     "metadata": {},
     "output_type": "display_data"
    },
    {
     "data": {
      "application/vnd.jupyter.widget-view+json": {
       "model_id": "66770043c28a43f0870e9bcf3ff2a2e1",
       "version_major": 2,
       "version_minor": 0
      },
      "text/plain": [
       "FloatSlider(value=0.5, description='x', max=1.0, step=0.01)"
      ]
     },
     "metadata": {},
     "output_type": "display_data"
    },
    {
     "data": {
      "application/vnd.jupyter.widget-view+json": {
       "model_id": "0644642e0e54410293c95df94ada3920",
       "version_major": 2,
       "version_minor": 0
      },
      "text/plain": [
       "FloatSlider(value=0.5, description='y', max=1.0, step=0.01)"
      ]
     },
     "metadata": {},
     "output_type": "display_data"
    },
    {
     "data": {
      "application/vnd.jupyter.widget-view+json": {
       "model_id": "601aaa507bdb43c4b9c239b2774217dc",
       "version_major": 2,
       "version_minor": 0
      },
      "text/plain": [
       "Canvas(height=400, width=400)"
      ]
     },
     "metadata": {},
     "output_type": "display_data"
    }
   ],
   "source": [
    "import sys\n",
    "from os.path import abspath\n",
    "sys.path.append(abspath(\"../src/\"))\n",
    "from stringart.utils import nail_point\n",
    "\n",
    "m_slider = widgets.IntSlider(value=num_nails/2, min=0, max=num_nails-2, step=1, description=\"m\", continuous_update=True)\n",
    "n_slider = widgets.IntSlider(value=3*num_nails/4, min=1, max=num_nails-1, step=1, description=\"n\", continuous_update=True)\n",
    "x_slider = widgets.FloatSlider(value=0.5, min=0, max=1.0, step=0.01, description=\"x\", continuous_update=True)\n",
    "y_slider = widgets.FloatSlider(value=0.5, min=0, max=1.0, step=0.01, description=\"y\", continuous_update=True)\n",
    "\n",
    "\n",
    "canvas = Canvas(width=PIXELS, height=PIXELS)\n",
    "canvas.stroke_style = \"red\"\n",
    "\n",
    "def draw():\n",
    "    canvas.clear()\n",
    "\n",
    "    m = m_slider.value\n",
    "    n = n_slider.value\n",
    "    x = x_slider.value\n",
    "    y = y_slider.value\n",
    "    conn_idx = connection_idx(m, n)\n",
    "    arr = np.array(mask[:,conn_idx])\n",
    "    arr.resize(img_h, img_w)\n",
    "    \n",
    "    arr = ((1 - arr/(arr.max()+1e-9)) * 250).astype('uint8')\n",
    "\n",
    "    pimg = PIL_Image.fromarray(arr, mode=\"L\")\n",
    "    with open(\"timg.png\", \"wb\") as f:\n",
    "        pimg.save(f)\n",
    "\n",
    "    img = Image.from_file(\"timg.png\")\n",
    "    canvas.draw_image(img, 0, 0, PIXELS, PIXELS)\n",
    "\n",
    "    canvas.stroke_circle(pixel(0.5), pixel(0.5), PIXELS/2)   \n",
    "    \n",
    "    mx = (np.cos(m / num_nails * 2 * math.pi) + 1) / 2\n",
    "    my = (np.sin(m / num_nails * 2 * math.pi) + 1) / 2\n",
    "    nx = (np.cos(n / num_nails * 2 * math.pi) + 1) / 2\n",
    "    ny = (np.sin(n / num_nails * 2 * math.pi) + 1) / 2\n",
    "    canvas.stroke_line_segments(\n",
    "        np.array([[[pixel(mx), PIXELS-pixel(my)], [pixel(nx), PIXELS-pixel(ny)]]], dtype=int),\n",
    "    )\n",
    "    canvas.fill_circle(pixel(x), PIXELS - pixel(y), 4)\n",
    "    \n",
    "\n",
    "    ### copied from utils\n",
    "    ax, ay = nail_point(m, num_nails)\n",
    "    bx, by = nail_point(n, num_nails)\n",
    "    cx, cy = x, y\n",
    "\n",
    "    if ay == by:\n",
    "        dist = abs(cy - ay)\n",
    "    elif ax == bx:\n",
    "        dist = abs(cx - ax)\n",
    "    else:\n",
    "\n",
    "        ab_slope = (by - ay) / (bx - ax)\n",
    "        ab_intercept = ay - ab_slope * ax\n",
    "    \n",
    "        orth_ab_slope = -1.0 / ab_slope\n",
    "        orth_ab_intercept = cy - orth_ab_slope * cx\n",
    "    \n",
    "        cross_x = (orth_ab_intercept - ab_intercept) / (ab_slope - orth_ab_slope)\n",
    "        cross_y = ab_slope * cross_x + ab_intercept\n",
    "        ###\n",
    "    \n",
    "        ### Orthogonal line\n",
    "        ox1 = 0\n",
    "        oy1 = orth_ab_intercept\n",
    "        ox2 = 1\n",
    "        oy2 = orth_ab_slope + orth_ab_intercept\n",
    "    \n",
    "        canvas.fill_text(f\"{orth_ab_slope:.2f}, {orth_ab_intercept:.2f}\", pixel(0.2), PIXELS-pixel(0.8))\n",
    "        canvas.fill_text(f\"({ox1:.2f}, {oy1:.2f}), ({ox2:.2f}, {oy2:.2f})\", pixel(0.2), PIXELS-pixel(0.7))\n",
    "        canvas.fill_text(f\"x close: {np.isclose(ax, bx)}\", pixel(0.2), PIXELS-pixel(0.6))\n",
    "    \n",
    "        canvas.stroke_line_segments(\n",
    "            np.array([[[pixel(ox1), PIXELS-pixel(oy1)], [pixel(ox2), PIXELS-pixel(oy2)]]], dtype=int),\n",
    "        )\n",
    "        canvas.fill_circle(pixel(cross_x), PIXELS - pixel(cross_y), 4)\n",
    "    ###\n",
    "\n",
    "def on_change(change):\n",
    "    draw()\n",
    "\n",
    "def m_slider_change(change):\n",
    "    if m_slider.value >= n_slider.value:\n",
    "        n_slider.value = m_slider.value+1\n",
    "    on_change(change)\n",
    "\n",
    "def n_slider_change(change):\n",
    "    if m_slider.value >= n_slider.value:\n",
    "        m_slider.value = n_slider.value-1\n",
    "    on_change(change)\n",
    "    \n",
    "m_slider.observe(m_slider_change, names='value')\n",
    "n_slider.observe(n_slider_change, names='value')\n",
    "x_slider.observe(on_change, names='value')\n",
    "y_slider.observe(on_change, names='value')\n",
    "\n",
    "display(m_slider, n_slider, x_slider, y_slider, canvas)\n",
    "draw()"
   ]
  },
  {
   "cell_type": "code",
   "execution_count": 168,
   "id": "b9aade04-7700-4fbf-b93e-501e03c6cd8b",
   "metadata": {},
   "outputs": [
    {
     "data": {
      "text/plain": [
       "11953"
      ]
     },
     "execution_count": 168,
     "metadata": {},
     "output_type": "execute_result"
    }
   ],
   "source": [
    "connection_idx(73, 128)"
   ]
  },
  {
   "cell_type": "code",
   "execution_count": 177,
   "id": "f97a1677-8047-478a-9a5e-ec5fca37b92e",
   "metadata": {},
   "outputs": [
    {
     "data": {
      "text/plain": [
       "<matplotlib.image.AxesImage at 0x12d946f40>"
      ]
     },
     "execution_count": 177,
     "metadata": {},
     "output_type": "execute_result"
    },
    {
     "data": {
      "image/png": "[encoded data removed]",
      "text/plain": [
       "<Figure size 640x480 with 1 Axes>"
      ]
     },
     "metadata": {},
     "output_type": "display_data"
    }
   ],
   "source": [
    "i = connection_idx(m_slider.value, n_slider.value)\n",
    "A = np.array(mask[:,i])\n",
    "A.resize(100, 100)\n",
    "plt.imshow(A)"
   ]
  },
  {
   "cell_type": "code",
   "execution_count": null,
   "id": "12088902-d426-4cb4-8ff5-c92b4dcc9ff7",
   "metadata": {},
   "outputs": [],
   "source": []
  }
 ],
 "metadata": {
  "kernelspec": {
   "display_name": "Python 3 (ipykernel)",
   "language": "python",
   "name": "python3"
  },
  "language_info": {
   "codemirror_mode": {
    "name": "ipython",
    "version": 3
   },
   "file_extension": ".py",
   "mimetype": "text/x-python",
   "name": "python",
   "nbconvert_exporter": "python",
   "pygments_lexer": "ipython3",
   "version": "3.9.15"
  }
 },
 "nbformat": 4,
 "nbformat_minor": 5
}
